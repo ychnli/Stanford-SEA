{
 "cells": [
  {
   "cell_type": "code",
   "execution_count": 7,
   "metadata": {},
   "outputs": [],
   "source": [
    "'''\n",
    "Use this to download ARGO data via FTP. CSV file contains download links.\n",
    "'''\n",
    "\n",
    "import os\n",
    "import csv\n",
    "import urllib.request\n",
    "\n",
    "def download_file(url, local_dir):\n",
    "    local_filename = os.path.join(local_dir, os.path.basename(url))\n",
    "    urllib.request.urlretrieve(url, local_filename)\n",
    "\n",
    "def download_files_from_csv(csv_file, local_dir):\n",
    "    with open(csv_file, 'r', encoding='utf-8') as file:\n",
    "        csv_reader = csv.reader(file)\n",
    "        next(csv_reader)  # Skip header row\n",
    "        for row in csv_reader:\n",
    "            if row and 'D' in row[0]:\n",
    "                file_url = row[6].strip()  # Assuming the URL is in the sixth column (index 5)\n",
    "                download_file(file_url, os.path.join(local_dir, 'data'))\n",
    "\n",
    "csv_file = 'argo6902909.csv'\n",
    "local_dir = '/Users/chloecheng/Documents/stanford_at_sea_project/bgc_argo'\n",
    "\n",
    "download_files_from_csv(os.path.join(local_dir, csv_file), local_dir)"
   ]
  },
  {
   "cell_type": "code",
   "execution_count": null,
   "metadata": {},
   "outputs": [],
   "source": [
    "'''\n",
    "Print all rows\n",
    "'''\n",
    "\n",
    "with open(local_dir + '/' + csv_file, 'r') as file:\n",
    "        csv_reader = csv.reader(file)\n",
    "        for row in csv_reader:\n",
    "                print(row)"
   ]
  },
  {
   "cell_type": "markdown",
   "metadata": {},
   "source": []
  }
 ],
 "metadata": {
  "kernelspec": {
   "display_name": "Python 3",
   "language": "python",
   "name": "python3"
  },
  "language_info": {
   "codemirror_mode": {
    "name": "ipython",
    "version": 3
   },
   "file_extension": ".py",
   "mimetype": "text/x-python",
   "name": "python",
   "nbconvert_exporter": "python",
   "pygments_lexer": "ipython3",
   "version": "3.12.2"
  }
 },
 "nbformat": 4,
 "nbformat_minor": 2
}
